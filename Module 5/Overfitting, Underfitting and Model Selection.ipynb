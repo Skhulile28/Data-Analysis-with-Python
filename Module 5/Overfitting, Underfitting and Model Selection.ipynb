{
 "cells": [
  {
   "cell_type": "markdown",
   "metadata": {},
   "source": [
    "# Model Selection\n",
    "- Calculate different R-squared values \n",
    "  - Rsqu_test = []\n",
    "  - order = [1,2,3,4]\n",
    "  - for n in order:\n",
    "    - pr = PolynomialFeatures(degree=n)\n",
    "    - x_train_pr = pr.fit_transform(x_train[['columnname']])\n",
    "    - x_test_pr = pr.fit_transform(x_test[['columnname']])\n",
    "    - lr.fit(x_train_pr, y_train)\n",
    "    - Rsqu_test.append(lr.score(x_test_pr, y_test))"
   ]
  }
 ],
 "metadata": {
  "language_info": {
   "name": "python"
  },
  "orig_nbformat": 4
 },
 "nbformat": 4,
 "nbformat_minor": 2
}
