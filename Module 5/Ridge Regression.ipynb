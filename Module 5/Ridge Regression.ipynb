{
 "cells": [
  {
   "cell_type": "markdown",
   "metadata": {},
   "source": [
    "# Ridge Regression Introduction\n",
    "- Ridge regression is a regression that is employed in a Multiple regression model when Multicollinearity occurs. \n",
    "- Multicollinearity is when there is a strong relationship among the independent variables. \n",
    "- Ridge regression is very common with polynomial regression.  \n",
    "- The next video shows how Ridge regression is used to regularize and reduce the standard errors to avoid over-fitting a regression model\n",
    "\n",
    "# Ridge Regression\n",
    "- from sklearn.learn_model import Ridge\n",
    "- RidgeModel = Ridge(alpha=0.1)\n",
    "- RidgeModel.fit(X,y)\n",
    "- Yhat = RidgeModel.predict(X)"
   ]
  }
 ],
 "metadata": {
  "language_info": {
   "name": "python"
  },
  "orig_nbformat": 4
 },
 "nbformat": 4,
 "nbformat_minor": 2
}
