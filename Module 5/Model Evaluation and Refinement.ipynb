{
 "cells": [
  {
   "cell_type": "markdown",
   "metadata": {},
   "source": [
    "# Model Evaluation\n",
    "- In-sample evaluation show us how well our model will fit the data used to train it\n",
    "- Problem?\n",
    "  - It does not tell us how well the trained model can be used to predict new data.\n",
    "- Solution?\n",
    "  - In-sample data or training data\n",
    "  - Out-of-sample evaluation or test set\n",
    "\n",
    "# Training/Testing Sets\n",
    "- Split dataset into:\n",
    "  - Training set (70%)\n",
    "  - Testing set (30%)\n",
    "- Build and train the model with a training set\n",
    "- Use testing set to assess the performance of a predictive model\n",
    "- When we have completed testing our model we should use all the data to train the model to get the best performance.\n",
    "\n",
    "# Function train_test_split()\n",
    "- Split data into random train and test subsets\n",
    "  - from sklearn.model_selection import train_test_split\n",
    "\n",
    "  - x_train, x_test, y_train, y_test = train_test_split(x_data, y_data, test_size=0.3, random_state=0)\n",
    "\n",
    "- x_data: features or independent variables\n",
    "- y_data: dataset target\n",
    "- x_train, y_train: parts of available data as training set\n",
    "- x_test, y_test: parts of available data as testing set\n",
    "- test_size: percentage of the data for testing (e.g 30%)\n",
    "- random_state: number generator used for random samping\n",
    "\n",
    "# Generalization Performance \n",
    "- Generalization error is measure of how well our data does at predicting previously unseen data.\n",
    "- The error we obtain using our testing data is an approximation of this error.\n",
    "\n",
    "# Cross Validation\n",
    "- Most common out-of-sample evaluation metrics.\n",
    "- More effective use of data (each observation is used for both training and testing)\n",
    "\n",
    "# Function cross_value_score()\n",
    "- from sklearn.model_selection import cross_val_score\n",
    "- scores = cross_val_score(lr, x_data, y_data, cv=3)\n",
    "- np.mean(scores)\n",
    "\n",
    "- The cross_val_score function returns a score value to tell us the cross-validation result. What if we want a little more information? What if we want to know the actual predicted values supplied by our model before the r squared values are calculated?\n",
    "\n",
    "# Function cross_val_predict()\n",
    "- It returns the prediction that was obtained for each element when it was in the test set.\n",
    "- Has a similar interface to cross_value_score()\n",
    "\n",
    "  - from sklearn.model_selection import cross_val_predict\n",
    "  - yhat = cross_val_predict(lr2e, x_data, y_data, cv=3)"
   ]
  }
 ],
 "metadata": {
  "language_info": {
   "name": "python"
  },
  "orig_nbformat": 4
 },
 "nbformat": 4,
 "nbformat_minor": 2
}
