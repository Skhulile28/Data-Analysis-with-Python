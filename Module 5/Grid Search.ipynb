{
 "cells": [
  {
   "cell_type": "markdown",
   "metadata": {},
   "source": [
    "# Hyperparameters\n",
    "-  The term alpha in Rdge regression is called a hyperparameter.\n",
    "- Scikit-learn has a means of automatically iterating over these hyperparameters using cross-validation called Grid Search.\n",
    "\n",
    "- Each model produces an error. We select the hyperparameter that minimizes the error. \n",
    "\n",
    "# Grid Search\n",
    "parameters = [{'alpha':[1, 10, 100, 1000]}]\n",
    "\n",
    "- Example 1:\n",
    "  - from sklearn.linear_model import Ridge\n",
    "  - from sklearn.model_selection import GridSearchCV\n",
    "\n",
    "  - parameters1 = [{'alpha':[0.001, 0.1, 1, 10, 100, 1000, 10000, 100000]}]\n",
    "  - RR = Ridge()\n",
    "\n",
    "  - Grid1 = GirdSearchCV(RR, parameters1, cv=4)\n",
    "  - Grid1.fit(x_data[['columnname1', 'columnname2', 'columnname3', 'columnname4']], y_data)\n",
    "  - Grid1.best_estimator_\n",
    "  - scores = Grid1.cv_results_\n",
    "  - scores['mean_test_score']\n",
    "\n",
    "parameters = [{'alpha':[1, 10, 100, 1000], 'normalize': [True, False]}]\n",
    "\n",
    "- Example 2:\n",
    "  - from sklearn.linear_model import Ridge\n",
    "  - from sklearn.model_selection import GridSearchCV\n",
    "\n",
    "  - parameters2 = [{'alpha':[0.001, 0.1, 1, 10, 100, 1000, 10000, 100000], 'normalize': [True, False]}]\n",
    "  - RR = Ridge()\n",
    "\n",
    "  - Grid1 = GirdSearchCV(RR, parameters2, cv=4)\n",
    "  - Grid1.fit(x_data[['columnname1', 'columnname2', 'columnname3', 'columnname4']], y_data)\n",
    "  - Grid1.best_estimator_\n",
    "  - scores = Grid1.cv_results_\n",
    "\n",
    "- for param, mean_val, mean_test inzip(scores['params'], scores['mean_test_score'], scores['mean_train_score']):\n",
    "  - print(param, \"R^2 on the test data:\", mean_val, \"R^2 on the train data:\", mean_test)\n",
    "\n",
    "# Lesson Summary\n",
    "\n",
    "- Identify over-fitting and under-fitting in a predictive model: Overfitting occurs when a function is too closely fit to the training data points and captures the noise of the data. Underfitting refers to a model that can't model the training data or capture the trend of the data.\n",
    "\n",
    "- Apply Ridge Regression to linear regression models: Ridge regression is a regression that is employed in a Multiple regression model when Multicollinearity occurs.\n",
    "\n",
    "- Tune hyper-parameters of an estimator using Grid search: Grid search is a time-efficient tuning technique that exhaustively computes the optimum values of hyperparameters performed on specific parameter values of estimators."
   ]
  }
 ],
 "metadata": {
  "language_info": {
   "name": "python"
  },
  "orig_nbformat": 4
 },
 "nbformat": 4,
 "nbformat_minor": 2
}
