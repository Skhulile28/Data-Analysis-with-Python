{
 "cells": [
  {
   "cell_type": "markdown",
   "metadata": {},
   "source": [
    "# Grouping data\n",
    "- Use Panda dataframe. Groupby() method:\n",
    "  - Can be applied on categorical variables\n",
    "  - Group data into categories \n",
    "  - Single or multiple variables\n",
    "\n",
    "# GroupBy \n",
    "Example:\n",
    "- df_test = df[['columnname1', 'columnname2', 'columnname3']]\n",
    "- df_grp = df_test.groupby(['columnname1', 'columnname2'], as_index=False).mean()\n",
    "- df_grp\n",
    "\n",
    "# Pivot()\n",
    "- One variable displayed along the columns and the other variable displayed along the rows.\n",
    "  - df_pivot = df_grp.pivot(index='columnname', columns='columnname')\n",
    "\n",
    "Heatmap \n",
    "- Plot target variable over multiple variables\n",
    "  - plt.pcolor(df_pivot, cmap='RdBu')\n",
    "  - plt.colorbar()\n",
    "  - plt.show()\n"
   ]
  }
 ],
 "metadata": {
  "language_info": {
   "name": "python"
  },
  "orig_nbformat": 4
 },
 "nbformat": 4,
 "nbformat_minor": 2
}
