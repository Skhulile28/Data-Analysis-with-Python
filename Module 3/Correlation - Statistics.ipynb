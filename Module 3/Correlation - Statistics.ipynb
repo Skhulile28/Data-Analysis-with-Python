{
 "cells": [
  {
   "cell_type": "markdown",
   "metadata": {},
   "source": [
    "# Pearson Correlation\n",
    "- Measure the strength of the correlation between two features.\n",
    "  - Correlation coefficient\n",
    "  - P-value\n",
    "\n",
    "- Correlation coefficient\n",
    "  - Close to +1: Large Positive relationship\n",
    "  - Close to -1: Large Negative relationship\n",
    "  - Close to 0: No relationship\n",
    "\n",
    "- P-value\n",
    "  - P-value < 0.001: Strong certainty in the result\n",
    "  - P-value < 0.05: Moderate certainty in the result\n",
    "  - P-value < 0.1: Weak certainty in the result\n",
    "  - P-value > 0.1: No certainty in the result\n",
    "\n",
    "- Strong Correlation:\n",
    "  - Correlation coefficient close to 1 or -1\n",
    "  - P-value less than 0.001\n",
    "\n",
    "- Code: pearson_coef, p_value = stats.pearsonr(df['columnname1'], df['columnname2'])\n",
    "\n",
    "- Pearson correlation: 0.81\n",
    "- P-value: 9.35e-48"
   ]
  }
 ],
 "metadata": {
  "language_info": {
   "name": "python"
  },
  "orig_nbformat": 4
 },
 "nbformat": 4,
 "nbformat_minor": 2
}
