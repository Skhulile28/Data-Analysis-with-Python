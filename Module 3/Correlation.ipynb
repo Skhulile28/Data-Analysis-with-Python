{
 "cells": [
  {
   "cell_type": "markdown",
   "metadata": {},
   "source": [
    "# What is Correlation?\n",
    "- Measures to what extend different variables are interdependent.\n",
    "\n",
    "- For example:\n",
    "  - Rain --> Umbrella\n",
    "\n",
    "- Correlation doesn't imply causation\n",
    "\n",
    "# Positive Linear Relationship\n",
    "- Correlation between two features (engine-size and price).\n",
    "- Scatter plot: sns.regplot(x='engine-size', y='price', data=df)\n",
    "- plt.ylim(0, )\n",
    "\n",
    "# Negative Linear Relationship\n",
    "- Correlation between two features (highway-mpg and price).\n",
    "- Scatter plot: sns.regplot(x='highway-mpg', y='price', data=df)\n",
    "- plt.ylim(0, )"
   ]
  }
 ],
 "metadata": {
  "language_info": {
   "name": "python"
  },
  "orig_nbformat": 4
 },
 "nbformat": 4,
 "nbformat_minor": 2
}
