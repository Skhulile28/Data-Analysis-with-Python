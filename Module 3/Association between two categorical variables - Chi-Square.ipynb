{
 "cells": [
  {
   "cell_type": "markdown",
   "metadata": {},
   "source": [
    "# Categorical variables\n",
    "- Use the Chi-square Test for Association (denoted as x2).\n",
    "- The test is intended to test how likely it is that an observed distribution is due to chance.\n",
    "\n",
    "# Chi-square: Test for Association\n",
    "- The Chi-square tests a null hypothesis that variables are independent.\n",
    "- The Chi-square does not tell you the type of relationship that exists between both variables; but only that a relationship exists.\n",
    "\n",
    "- Formula: (Row total * Column total)/Grand total\n",
    "- Python: scipy.stats.chi2_contingency(cont_table, correlation=True)\n",
    "\n",
    "# Lesson Summary\n",
    "- Describe Exploratory Data Analysis: By summarizing the main characteristics of the data and extracting valuable insights.\n",
    "\n",
    "- Compute basic descriptive statistics: Calculate the mean, median, and mode using python and use it as a basis in understanding the distribution of the data.\n",
    "\n",
    "- Create data groups: How and why you put continuous data in groups and how to visualize them.\n",
    "\n",
    "- Define correlation as the linear association between two numerical variables: Use Pearson correlation as a measure of the correlation between two continuous variables\n",
    "\n",
    "- Define the association between two categorical variables: Understand how to find the association of two variables using the Chi-square test for association and how to interpret them.\n",
    "\n",
    "\n"
   ]
  }
 ],
 "metadata": {
  "language_info": {
   "name": "python"
  },
  "orig_nbformat": 4
 },
 "nbformat": 4,
 "nbformat_minor": 2
}
