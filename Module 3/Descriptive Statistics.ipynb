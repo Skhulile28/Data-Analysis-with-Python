{
 "cells": [
  {
   "cell_type": "markdown",
   "metadata": {},
   "source": [
    "# Descriptive Statistics\n",
    "- Describe basic features of data.\n",
    "- Giving short summaries about the sample and measures of the data.\n",
    "\n",
    "# Describe()\n",
    "- Summarize statistics using pandas describe() method\n",
    "  - df.describe()\n",
    "\n",
    "# Value_Counts()\n",
    "- Summarize the categorical data is by using the value_counts() method.\n",
    "  - columnname = df['columnname'].value_counts().to_frame()\n",
    "  - columnname.rename(columns={'columnname': 'value_counts'}, inplace=True)\n",
    "  - columnname\n",
    "\n",
    "# Box Plots\n",
    "- sns.boxplot(x=\"columnname\", y=\"columnname\", data=df)\n",
    "\n",
    "# Scatter Plot\n",
    "- Each observation represented as a point.\n",
    "- Scatter plot show the relationship between two variables.\n",
    "1. Predictor/dependent variables on x-axis.\n",
    "2. Target/dependent variables on y-axis.\n",
    "\n",
    "y = df[\"y columnname\"]\n",
    "x = df[\"x columnname\"]\n",
    "plt.scatter(x,y)\n",
    "\n",
    "plt.title(\"Graph Title\")\n",
    "plt.xlabel(\"x label\")\n",
    "plt.ylabel(\"y label\")"
   ]
  }
 ],
 "metadata": {
  "language_info": {
   "name": "python"
  },
  "orig_nbformat": 4
 },
 "nbformat": 4,
 "nbformat_minor": 2
}
