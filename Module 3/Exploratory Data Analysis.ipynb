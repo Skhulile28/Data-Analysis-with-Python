{
 "cells": [
  {
   "cell_type": "markdown",
   "metadata": {},
   "source": [
    "# Exploratory Data Analysis (EDA)\n",
    "- Preliminary step in data analisi to.\n",
    "  - Summarize main characteristics of the data\n",
    "  - Gain better uderstandning of the data set\n",
    "  - Uncover relationships between variables\n",
    "  - Extract important variables\n",
    "\n",
    "- Main Question:\n",
    "  - \"What are the characteristics which have the most impact on the car price\"\n",
    "\n",
    "# Learning Objectives:\n",
    "- Descriptive Statistics: describe basic features of a data set and obtains a short summary about the sample and measures of the data.\n",
    "- GroupBy: basic of grouping data using group by and how this can help to transform our data set.\n",
    "- Correlation: the correlation between different variables\n",
    "- Correlation - Statistics: advanced correlation; statistical methods namely pearson correlation and correlation heat maps."
   ]
  }
 ],
 "metadata": {
  "language_info": {
   "name": "python"
  },
  "orig_nbformat": 4
 },
 "nbformat": 4,
 "nbformat_minor": 2
}
