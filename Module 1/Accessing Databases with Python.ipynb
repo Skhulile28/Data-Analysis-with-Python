{
 "cells": [
  {
   "attachments": {},
   "cell_type": "markdown",
   "metadata": {},
   "source": [
    "DB-API is Python's standard API for accessing relational databases. It is a standard that allows you to write a single program that works with multiple kinds of relational databases instead of writing a separate program for each one. "
   ]
  },
  {
   "attachments": {},
   "cell_type": "markdown",
   "metadata": {},
   "source": [
    "# Concepts of the Python DB API\n",
    "1. Connection Objects\n",
    "- Database connections\n",
    "- Manage transactions\n",
    "\n",
    "2. Cursor Objects\n",
    "- Database Queries\n",
    "\n",
    "# Connection methods\n",
    "- cursor(): method returns a new cursor object using the connection.\n",
    "- commit(): method is used to commit any pending transaction to the database.\n",
    "- rollback(): method causes the database to roll back to the start of any pending transaction.\n",
    "- close(): method is used to close a database connection. "
   ]
  },
  {
   "cell_type": "code",
   "execution_count": null,
   "metadata": {},
   "outputs": [],
   "source": [
    "# Code using DB-API\n",
    "from dbmodule import connect \n",
    "\n",
    "# Create connection object\n",
    "connection = connect('databasename', 'username', 'pswd')\n",
    "\n",
    "# Create a cursor object\n",
    "cursor = connection.cursor()\n",
    "\n",
    "# Run queries\n",
    "cursor.execute('select * from mytable')\n",
    "results = cursor.fetchall()\n",
    "\n",
    "# Free resources\n",
    "cursor.close()\n",
    "connection.close()"
   ]
  }
 ],
 "metadata": {
  "language_info": {
   "name": "python"
  },
  "orig_nbformat": 4
 },
 "nbformat": 4,
 "nbformat_minor": 2
}
