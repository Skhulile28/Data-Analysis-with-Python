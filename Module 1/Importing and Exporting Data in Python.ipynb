{
 "cells": [
  {
   "attachments": {},
   "cell_type": "markdown",
   "metadata": {},
   "source": [
    "Importing Data \n",
    "- Process of loading and reading data into Python from various resources.\n",
    "- Two important properties:\n",
    "1. Format \n",
    "- various formats: .csv, .json, .xlsx, .hdf ....\n",
    "2. File path of dataset\n",
    "- computer: /Desktop/mydata.csv"
   ]
  },
  {
   "attachments": {},
   "cell_type": "markdown",
   "metadata": {},
   "source": [
    "Importing a CSV into Python\n",
    "import pandas as pd\n",
    "\n",
    "url = 'https://archive.ics.uci.edu/ml/machine-learning-databases/autos/imports-85.data'\n",
    "\n",
    "df = pd.read_csv(url, header = None)"
   ]
  },
  {
   "attachments": {},
   "cell_type": "markdown",
   "metadata": {},
   "source": [
    "Printing the dataframe in Python\n",
    "- df prints the entire dataframe (not receommended for large datasets).\n",
    "- df.head(n) to show the first n rows of the data frame.\n",
    "- df.tails(n) shows the bottom n rows of the data frame."
   ]
  },
  {
   "attachments": {},
   "cell_type": "markdown",
   "metadata": {},
   "source": [
    "Adding headers\n",
    "- Replace default header (by df.columns = headers)\n",
    "\n",
    "Exporting a Pandas dataframe to CSV\n",
    "- Preserve progress anytime by saving modified dataset using \n",
    "\n",
    "path = 'C:Windows/.../automobiles.csv'\n",
    "df.to_csv(path)\n",
    "\n",
    "- Read: df.read_format(), e.g df.read_csv\n",
    "- Save: df.to_format(), e.g df.to_csv"
   ]
  }
 ],
 "metadata": {
  "language_info": {
   "name": "python"
  },
  "orig_nbformat": 4
 },
 "nbformat": 4,
 "nbformat_minor": 2
}
