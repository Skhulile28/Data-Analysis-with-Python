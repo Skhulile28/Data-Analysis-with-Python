{
 "cells": [
  {
   "attachments": {},
   "cell_type": "markdown",
   "metadata": {},
   "source": [
    "# Why Data Analysis?\n",
    "1. Data is everywhere.\n",
    "2. Data Analysis/ data science helps us answer questions from data.\n",
    "3. Data analysis plays an important role in:\n",
    "- Discovering useful information\n",
    "- Answering questions\n",
    "- Predicting future or the unknown\n",
    "\n",
    "# Problem: Estimate used car prices\n",
    "How can we help determine the best price for used car?\n",
    "- Is there data on the prices of other cars and their characteristics?\n",
    "- What features of cars affect their prices: Color? Brand? HorsePower? SOmething else?\n",
    "- Asking the right questions in terms of data\n",
    "\n",
    "@Skhulile28"
   ]
  }
 ],
 "metadata": {
  "language_info": {
   "name": "python"
  },
  "orig_nbformat": 4
 },
 "nbformat": 4,
 "nbformat_minor": 2
}
