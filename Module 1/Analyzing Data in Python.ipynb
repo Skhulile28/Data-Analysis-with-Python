{
 "cells": [
  {
   "attachments": {},
   "cell_type": "markdown",
   "metadata": {},
   "source": [
    "# Basic insights from the data\n",
    "1. Understand your data before you begin any analysis.\n",
    "2. Should check:\n",
    "- Data Types\n",
    "- Data Distribution\n",
    "\n",
    "3. Locate potential issues with the data\n",
    "\n",
    "## Data Types\n",
    "1. Pandas Type: object, int64, float64, datetime64, timedelta[ns]\n",
    "2. Native Python Type: string, int, float, N/A\n",
    "3. Descriptions: numbers and strings, numeric char, numeric char with decimals, time data\n",
    "\n",
    "## Why check data types?\n",
    "- potential info and type mismatch\n",
    "- compatibility with python methods\n",
    "\n",
    "- In pandas, use dataframe.dtypes to check data types: df.dtypes\n",
    "\n",
    "## dataframe.describe()\n",
    "- Returns a statistical summary: df.describe()\n",
    "- Provide full summary statistics: df.describe(include=\"all\")\n",
    "\n",
    "## Info\n",
    "dataframe.info(): provides a concise summary of your DataFrame\n",
    "- df.info()\n"
   ]
  }
 ],
 "metadata": {
  "language_info": {
   "name": "python"
  },
  "orig_nbformat": 4
 },
 "nbformat": 4,
 "nbformat_minor": 2
}
