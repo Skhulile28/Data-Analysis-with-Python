{
 "cells": [
  {
   "attachments": {},
   "cell_type": "markdown",
   "metadata": {},
   "source": [
    "# Binning\n",
    "- Grouping of values into \"bins\"\n",
    "- Converts numeric into categorical variables\n",
    "- Group a set of numerical values into a set of \"bins\"\n",
    "\n",
    "bins = np.linspace(min(df['columnname']), max(df['columnname']), 4)"
   ]
  }
 ],
 "metadata": {
  "kernelspec": {
   "display_name": "myenv",
   "language": "python",
   "name": "python3"
  },
  "language_info": {
   "name": "python",
   "version": "3.8.3"
  },
  "orig_nbformat": 4
 },
 "nbformat": 4,
 "nbformat_minor": 2
}
