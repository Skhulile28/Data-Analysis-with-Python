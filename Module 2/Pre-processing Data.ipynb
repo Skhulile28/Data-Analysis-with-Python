{
 "cells": [
  {
   "attachments": {},
   "cell_type": "markdown",
   "metadata": {},
   "source": [
    "# Learning Objectives\n",
    "- Identify and handle missing values\n",
    "- Data Formatting\n",
    "- Data Normalization (centering/scaling)\n",
    "- Data Binning\n",
    "- Turning Categorical values to numerical variables"
   ]
  },
  {
   "attachments": {},
   "cell_type": "markdown",
   "metadata": {},
   "source": [
    "Acessing columns\n",
    "- df['columnname']\n",
    "e.g Adding 1: df['columnname'] = df['columnname'] + 1"
   ]
  }
 ],
 "metadata": {
  "language_info": {
   "name": "python"
  },
  "orig_nbformat": 4
 },
 "nbformat": 4,
 "nbformat_minor": 2
}
