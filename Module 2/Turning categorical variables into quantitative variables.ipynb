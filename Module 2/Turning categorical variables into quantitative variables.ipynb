{
 "cells": [
  {
   "cell_type": "markdown",
   "metadata": {},
   "source": [
    "# Categorical Variables\n",
    "Problem:\n",
    "- Most statistical models cannot take in the objects/strings as input.\n",
    "- Assign 0 or 1 in each category\n",
    "\n",
    "# Dummy variables in Python pandas\n",
    "- Use pandas.get_dummies() method.\n",
    "- Convert categorical variables to dummy variables (0 or 1)\n",
    "\n",
    "pd.get_dummies(df['columnname'])"
   ]
  },
  {
   "cell_type": "markdown",
   "metadata": {},
   "source": [
    "# Summary\n",
    "\n",
    "Identify and Handle Missing Values: Drop rows with incomplete information and impute missing data using the mean values.\n",
    "\n",
    "Understand Data Formatting: Wrangle features in a dataset and make them meaningful for data analysis.\n",
    "\n",
    "Apply normalization to a data set: By understanding the relevance of using feature scaling on your data and how normalization and standardization have varying effects on your data analysis."
   ]
  }
 ],
 "metadata": {
  "kernelspec": {
   "display_name": "base",
   "language": "python",
   "name": "python3"
  },
  "language_info": {
   "name": "python",
   "version": "3.10.0"
  },
  "orig_nbformat": 4
 },
 "nbformat": 4,
 "nbformat_minor": 2
}
