{
 "cells": [
  {
   "attachments": {},
   "cell_type": "markdown",
   "metadata": {},
   "source": [
    "# Data Normalization \n",
    "- Uniform the features value with different range.\n",
    "\n",
    "# Methods of normalizing data\n",
    "1. Simple Feature scaling: X(new) = X(old)/X(max), new values range between 1 and 0.\n",
    "2. Min-Max: X(new) = [X(old) - X(min)]/[X(max) - X(min)], new values ranges between 0 and 1.\n",
    "3. Z-score: X(new) = [X(old) - mean]/standard deviation sigma, new values hover around 0, ranges between -3 and +3\n",
    "\n",
    "# Simple Feature Scaling \n",
    "- With Pandas: df['columnname'] = df['columnname']/df['columnname'].max()\n",
    "\n",
    "# Min-Max \n",
    "- With Pandas: df['columnname'] = (df['columnname']-df['columnname'].min()) / (df['columnname'].max()-df['columnname'].min())\n",
    "\n",
    "# Z-score \n",
    "- With Pandas: df['columnname'] = (df['columnname']-df['columnname'].mean() / df['columnname'].std())"
   ]
  }
 ],
 "metadata": {
  "language_info": {
   "name": "python"
  },
  "orig_nbformat": 4
 },
 "nbformat": 4,
 "nbformat_minor": 2
}
