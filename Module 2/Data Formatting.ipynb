{
 "cells": [
  {
   "attachments": {},
   "cell_type": "markdown",
   "metadata": {},
   "source": [
    "# Data Formatting\n",
    "- Data are usually collected from different places and stored in different formats.\n",
    "- Bringing data into a common standard of expression allows users to make meaningful comparison.\n",
    "\n",
    "# Applying calculations to an entire column\n",
    "1. Convert \"mpg\" to \"L/100km\" in Car dataset.\n",
    "- df[\"city-mpg\"] = 235/df[\"city-mpg\"]\n",
    "\n",
    "2. Rename column: df.rename(columns=(\"city-mpg\": \"city-L/100km\"), inplace=True)\n",
    "\n",
    "# Data Types in Python and Pandas\n",
    "- There are many data types in pandas\n",
    "- Objects: \"A\", \"Hello\"...\n",
    "- Int64: 1,3,4\n",
    "- Float64: 2.123, 43.55\n",
    "\n",
    "# Correcting data types\n",
    "1. To identify data types:\n",
    "- Use dataframe.dtypes() to identify data type.\n",
    "2. To convert data types:\n",
    "- Use dataframe.astype() to convert data type.\n",
    "- df['columnname'] = df[''columname'].astype('int')\n"
   ]
  }
 ],
 "metadata": {
  "language_info": {
   "name": "python"
  },
  "orig_nbformat": 4
 },
 "nbformat": 4,
 "nbformat_minor": 2
}
