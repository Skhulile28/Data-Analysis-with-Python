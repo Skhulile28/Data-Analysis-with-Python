{
 "cells": [
  {
   "attachments": {},
   "cell_type": "markdown",
   "metadata": {},
   "source": [
    "# Missing Values\n",
    "- Missing values occur when no data value is stored for a variable(feature) in an observation.\n",
    "- Could be represented as \"?\", \"N/A\", 0, or blank cell"
   ]
  },
  {
   "attachments": {},
   "cell_type": "markdown",
   "metadata": {},
   "source": [
    "# Deal with missing data\n",
    "1. Check with the data collection source.\n",
    "2. Drop the missing values.\n",
    "- drop the variable\n",
    "- drop the data entry (best option - when you dont have a lot of observations with missing data)\n",
    "\n",
    "3. Replace the missing values\n",
    "- replace it with an average (of similar datapoints)\n",
    "- replace it by frequency\n",
    "- replace it based on other functions\n",
    "\n",
    "4. Leave it as missing data"
   ]
  },
  {
   "attachments": {},
   "cell_type": "markdown",
   "metadata": {},
   "source": [
    "# How to drop missing values\n",
    "1. Use dataframes.dropna(): axis=0 drops the entire row, axis=1 drops the entire column\n",
    "- df.dropna(subset=['columnname'], axis=0, inplace= True)\n",
    "- df = df.dropna(subset=['columnname'], axis=0)\n",
    "\n",
    "# Replace missing values \n",
    "1. Use dataframe.replace(missing_value, new_value):\n",
    "- mean = df['columnname'].mean()\n",
    "- df['columnname'].replace(np.nan, mean)"
   ]
  }
 ],
 "metadata": {
  "language_info": {
   "name": "python"
  },
  "orig_nbformat": 4
 },
 "nbformat": 4,
 "nbformat_minor": 2
}
