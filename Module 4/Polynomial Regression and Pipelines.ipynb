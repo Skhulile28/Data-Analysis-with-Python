{
 "cells": [
  {
   "cell_type": "markdown",
   "metadata": {},
   "source": [
    "# Polynomial Regressions\n",
    "- A special case of the general linear regression model \n",
    "- Useful for describing curvilinear relationship \n",
    " - Curvilinear relationships: by squaring or setting higher-order terms of the predictor variables\n",
    "\n",
    "1. Calculate Polynomial of 3rd order\n",
    "- f = np.polyfit(x,y,3)\n",
    "- p = np.polyld(f)\n",
    "2. Print the model: print(p)\n",
    "\n",
    "- We can also have multi dimensional polynomial linear regression\n",
    "- The \"preprocessing\" library in scikit-learn\n",
    " - from sklearn.preprocessing import PolynomialFeatures\n",
    " - pr = PolynomialFeatures(degree=2, include_bias=False)\n",
    "- x_polly = pr.fit_transform(x[['columnname1', 'columnname2']])\n",
    "\n",
    "# Pre-processing\n",
    "- Normalize each feature simultaneously\n",
    " - from sklearn.preprocessing import StandardScaler\n",
    " - SCALE = StandardScaler()\n",
    " - SCALE.fit(x_data[['columnname1', 'columnname2']])\n",
    " - x_scale = SCALE.transform(x_data[['columnname1', 'columnname2']])\n",
    "\n",
    "# Pipelines\n",
    "- There are many steps to get a prediction:\n",
    " 1. Normalization\n",
    " 2. Polynomial transform\n",
    " 3. Linear Regression\n",
    "\n",
    "- from sklearn.preprocessing import PolynomialFeatures\n",
    "- from sklearn.linear_model import LinearRegression\n",
    "- from sklear.preprocessing import StandardScaler\n",
    "- from sklearn.pipeline import Pipeline\n",
    "\n",
    "- Create a list of tuples:\n",
    "Input = [('scale',StandardScaler()), ('polynomial',PolynomialFeatures(degree=2)), ('mode',LinearRegression)]\n",
    "\n",
    "- Pipeline constructor\n",
    " - pipe (pipeline object) = Pipeline(Input)\n",
    "\n",
    "# Pipeline Constructor\n",
    "- We can train the pipeline object\n",
    " - Pipe.fit(df[['columnname1', 'columnname2', 'columnname3', 'columnname4']], y)\n",
    " - yhat = Pipe.predict(X[['columnname1', 'columnname2', 'columnname3', 'columnname4']])"
   ]
  }
 ],
 "metadata": {
  "language_info": {
   "name": "python"
  },
  "orig_nbformat": 4
 },
 "nbformat": 4,
 "nbformat_minor": 2
}
