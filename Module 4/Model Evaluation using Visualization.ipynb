{
 "cells": [
  {
   "cell_type": "markdown",
   "metadata": {},
   "source": [
    "# Regression Plot\n",
    "Why use regression plot?\n",
    "- Good estimate of:\n",
    " 1. The relationship between two variables\n",
    " 2. The strength of the correlation\n",
    " 3. The direction of the relationship (positive or negative)\n",
    "\n",
    "Regression Plot shows combination of: \n",
    "- The scatterplot: where each point represents a different y\n",
    "- The fiited linear regression line(y)\n",
    "\n",
    "import seaborn as sns\n",
    "\n",
    "sns.regplot(x='columnname1', y='columnname2', data=df)\n",
    "plt.ylim(0,)\n",
    "\n",
    "# Residual Plot\n",
    "import seaborn as sns\n",
    "\n",
    "sns.residplot(df[x='columnname1', y='columnname2'])\n",
    "\n",
    "# Distribution Plots\n",
    "Compare the distribution plots:\n",
    "- The fitted values that result from the model\n",
    "- The actual values\n",
    "\n",
    "import seaborn as sns\n",
    "\n",
    "axl = sns.distplot(df['columnname], hist=False, color='r', label='Actual Value')\n",
    "\n",
    "sns.distplot(Yhat, hist=False, color='b', label='Fitted Values', ax=axl)\n"
   ]
  }
 ],
 "metadata": {
  "language_info": {
   "name": "python"
  },
  "orig_nbformat": 4
 },
 "nbformat": 4,
 "nbformat_minor": 2
}
