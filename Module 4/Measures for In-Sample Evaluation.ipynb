{
 "cells": [
  {
   "cell_type": "markdown",
   "metadata": {},
   "source": [
    "# Measures for In-Sample Evaluation\n",
    "- A way to numerically determine how good the model fits on dataset\n",
    "- Two important measures to determine the fit of a model:\n",
    "  - Mean Squared Error (MSE)\n",
    "  - R-squared (R^2)\n",
    "\n",
    "# Mean Squared Error (MSE) \n",
    "- In python measures MSE as:\n",
    "  - from sklearn.metrics import mean_squared_error\n",
    "  - mean_squared_error(df['columnname'], Y_predict_simple_fit)\n",
    "\n",
    "# R-squared (R^2)\n",
    "- The Coefficient of Determination or R squared (R^2)\n",
    "- Is a measure to determine how close the data is to the fitted regression line.\n",
    "- R^2: the percentage of variation of the target variable (Y) that is explained by the linear model.\n",
    "- Think about as comparing a regression model to a simple model i.e the mean of the data points\n",
    "\n",
    "- Generally the values of the MSE are between 0 and 1.\n",
    "- We can calculate the R^2 as follows:\n",
    "  - X = df[['columnname1']]\n",
    "  - Y = df['columnname2']\n",
    "\n",
    "  - lm.fit(X,Y)\n",
    "  - lm.score(X,Y)"
   ]
  }
 ],
 "metadata": {
  "language_info": {
   "name": "python"
  },
  "orig_nbformat": 4
 },
 "nbformat": 4,
 "nbformat_minor": 2
}
