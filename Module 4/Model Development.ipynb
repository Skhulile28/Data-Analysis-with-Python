{
 "cells": [
  {
   "cell_type": "markdown",
   "metadata": {},
   "source": [
    "# Objectives \n",
    "1. Simple and Multiple Linear Regression\n",
    "2. Model Evaluation using Visualization\n",
    "3. Polynomial Regression and Pipelines\n",
    "4. R-squared and MSE for In-Sample Evaluation\n",
    "5. Prediction and Decision Making\n",
    "\n",
    "- Question\n",
    "  - How can you determine a fair value for a used car?\n",
    "\n",
    "# Model Development \n",
    "- A model can be thought of as a mathematical equation used to predict a value given one or more other values.\n",
    "- Relating one or more independent variables to dependent variables.\n",
    "- Usually the more relevant data you have the more accurate your model is\n",
    "  \n",
    "To understand why more data is important consider the following situation:\n",
    "1. You have two almost identical cars.\n",
    "2. Black cars sell for significantly less.\n",
    "\n",
    "To get more data you can try different types of models.\n",
    "1. Simple Linear Regression\n",
    "2. Multiple Linear Regression\n",
    "3. Polynomial Regression "
   ]
  }
 ],
 "metadata": {
  "language_info": {
   "name": "python"
  },
  "orig_nbformat": 4
 },
 "nbformat": 4,
 "nbformat_minor": 2
}
