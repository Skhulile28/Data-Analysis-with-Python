{
 "cells": [
  {
   "cell_type": "markdown",
   "metadata": {},
   "source": [
    "# Introduction \n",
    "- Linear regression will refer to one independent variable to make a prediction.\n",
    "- Multiple Linear Regression will refer to multiple independent variables to make a prediction\n",
    "\n",
    "# Simple Linear Regression (SLR)\n",
    "1. The predictor (independent) variable - x\n",
    "2. The target (dependent) variable - y\n",
    "\n",
    "# Fitting a Simple Linear Model Estimator\n",
    "- X: Predictor variable\n",
    "- Y: Target variable\n",
    "\n",
    "1. Import linear_model from scikit-learn\n",
    "- from sklearn.linear_model import LinearRegression\n",
    "2. Create a Linear Regression Object using the constructor:\n",
    "- lm = LearnRegression()\n",
    "\n",
    "- Define the predictor variable and target variable\n",
    "  - X = df[['columnname1']]\n",
    "  - Y: df['columnname']\n",
    "- Then use lm.fit(X,Y) to fit the model, i.e fine the parameters b0 and b1\n",
    "  - lm.fit(X,Y)\n",
    "- Obtain a prediction\n",
    "  - Yhat = lm.predict(X)\n",
    "\n",
    "# Multiple Linear Regression (MLR)\n",
    "- This method is used to explain the relationship between:\n",
    "  - One continuous target (Y) variable\n",
    "  - Two or more predictor (X) variables\n",
    "\n",
    "# Fitting a Multiple Linear Model Estimator\n",
    "1. Extract the for 4 predictor variables and store them in the variable Z\n",
    "- z = df[['columnname1', 'columnname2', 'columnname3', 'columnname4']]\n",
    "2. Train the model as before:\n",
    "- lm.fit(z, df['columnname'])\n",
    "3. Obtain a prediction\n",
    "- Yhat = lm.predict(X)"
   ]
  }
 ],
 "metadata": {
  "language_info": {
   "name": "python"
  },
  "orig_nbformat": 4
 },
 "nbformat": 4,
 "nbformat_minor": 2
}
